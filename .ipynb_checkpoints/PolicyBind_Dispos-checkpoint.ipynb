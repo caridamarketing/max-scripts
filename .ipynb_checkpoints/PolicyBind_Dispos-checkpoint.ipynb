{
 "cells": [
  {
   "cell_type": "code",
   "execution_count": null,
   "id": "142c4551-d261-46be-9dcc-32a86f39eba8",
   "metadata": {
    "tags": []
   },
   "outputs": [],
   "source": [
    "import requests\n",
    "import json\n",
    "import pandas as pd\n",
    "import datetime, time\n",
    "from io import BytesIO\n",
    "import zipfile\n",
    "import os\n",
    "import mysql.connector\n",
    "from sqlalchemy import create_engine\n",
    "import glob\n",
    "\n",
    "url = \"https://api.ringba.com/v2/token\"\n",
    "\n",
    "payload='grant_type=password&username=mike%40carida.com&password=Rutgers-72'\n",
    "headers = {\n",
    "  'content-type': 'application/x-www-form-urlencoded; charset=UTF-8'\n",
    "}\n",
    "\n",
    "response = requests.request(\"POST\", url, headers=headers, data=payload)\n",
    "\n",
    "token = response.json()\n",
    "token = token['access_token']\n",
    "\n",
    "today = datetime.date.today()\n",
    "\n",
    "# Calculate yesterday\n",
    "yesterday = today - datetime.timedelta(days=1)\n",
    "\n",
    "# If today is Monday (weekday() function returns 0 for Monday) then set yesterday to be last Friday\n",
    "if today.weekday() == 0:\n",
    "    yesterday = today - datetime.timedelta(days=3)\n",
    "\n",
    "# Convert yeserday variable to string\n",
    "yesterday = str(yesterday)\n",
    "\n",
    "# This section is not required anymore as you're not using 'day' and 'today' variables anywhere\n",
    "# day = datetime.date.today()\n",
    "# today = time.strftime(\"%Y-%m-%d\")\n",
    "\n",
    "# Calculate start and end time for the given day\n",
    "start = yesterday + 'T' + '00:00:00Z'\n",
    "end = yesterday + 'T' + '23:59:59Z'"
   ]
  },
  {
   "cell_type": "code",
   "execution_count": null,
   "id": "2beacea9-f96b-4208-8478-5d35a82ab74d",
   "metadata": {
    "tags": []
   },
   "outputs": [],
   "source": [
    "url = \"https://api.ringba.com/v2/RA0909aa9eddae40c4bb48f7253e6e8742/calllogs/export/csv\"\n",
    "\n",
    "payload = json.dumps({\n",
    "  \"reportEnd\": 2023-06-10,\n",
    "  \"reportStart\": 2023-05-20,\n",
    "  \"orderByColumns\": [\n",
    "      {\n",
    "          \"column\": \"callDt\",\n",
    "          \"direction\": \"desc\"\n",
    "      }\n",
    "  ],\n",
    "  \"valueColumns\": [\n",
    "    {\n",
    "      \"column\": \"callDt\"\n",
    "    },\n",
    "    {\n",
    "      \"column\": \"tag:DialedNumber:Name\"\n",
    "    },\n",
    "    {\n",
    "      \"column\": \"campaignName\"\n",
    "    },\n",
    "    {\n",
    "      \"column\": \"publisherName\"\n",
    "    },\n",
    "    {\n",
    "      \"column\": \"targetName\"\n",
    "    },\n",
    "    {\n",
    "      \"column\": \"targetNumber\"\n",
    "    },\n",
    "    {\n",
    "      \"column\": \"buyer\"\n",
    "    },\n",
    "    {\n",
    "      \"column\": \"inboundPhoneNumber\"\n",
    "    },\n",
    "    {\n",
    "      \"column\": \"number\"\n",
    "    },\n",
    "    {\n",
    "      \"column\": \"endCallSource\"\n",
    "    },\n",
    "    {\n",
    "      \"column\": \"hasConnected\"\n",
    "    },\n",
    "    {\n",
    "      \"column\": \"callLengthInSeconds\"\n",
    "    },\n",
    "    {\n",
    "      \"column\": \"connectedCallLengthInSeconds\"\n",
    "    },\n",
    "    {\n",
    "      \"column\": \"hasPayout\"\n",
    "    },\n",
    "    {\n",
    "      \"column\": \"isDuplicate\"\n",
    "    },\n",
    "    {\n",
    "      \"column\": \"hasPreviouslyConnected\"\n",
    "    },\n",
    "    {\n",
    "      \"column\": \"hasConverted\"\n",
    "    },\n",
    "    {\n",
    "      \"column\": \"payoutAmount\"\n",
    "    },\n",
    "    {\n",
    "      \"column\": \"tag:InboundNumber:State\"\n",
    "    },\n",
    "  ]\n",
    "})\n",
    "headers = {\n",
    "  'Authorization': 'Bearer' + ' ' + token,\n",
    "  'Content-Type': 'application/json'\n",
    "}\n",
    "\n",
    "response = requests.request(\"POST\", url, headers=headers, data=payload)\n",
    "\n",
    "csvid = response.json()['id']"
   ]
  },
  {
   "cell_type": "code",
   "execution_count": null,
   "id": "72e28e91-518d-4b81-a063-d8db079fc3cb",
   "metadata": {},
   "outputs": [],
   "source": [
    "url = \"https://api.ringba.com/v2/RA0909aa9eddae40c4bb48f7253e6e8742/calllogs/export/\" + csvid\n",
    "payload={}\n",
    "headers = {\n",
    "  'Authorization': 'Bearer' + ' ' + token\n",
    "  }\n",
    "response = requests.request(\"GET\", url, headers=headers, data=payload)\n",
    "#time.sleep(420)\n",
    "r = response.json()"
   ]
  },
  {
   "cell_type": "code",
   "execution_count": null,
   "id": "c9a0ad48-1cea-426c-959d-eb2b3817fc1e",
   "metadata": {
    "tags": []
   },
   "outputs": [],
   "source": [
    "'''poll the API until the file is ready'''\n",
    "while True:\n",
    "    response = requests.request(\"GET\", url, headers=headers, data=payload)\n",
    "    if response.json()['status'] == 'Ready':\n",
    "        break\n",
    "    else:\n",
    "        time.sleep(5)\n",
    "        continue\n",
    "# response = requests.request(\"GET\", url, headers=headers, data=payload)\n",
    "r = response.json()['url']\n",
    "\n",
    "print('Downloading started')\n",
    "\n",
    "filename = url.split('/')[-1]\n",
    "\n",
    "req = requests.get(r)\n",
    "print('Downloading finished')\n",
    "\n",
    "'''extract the file to the current directory'''\n",
    "with zipfile.ZipFile(BytesIO(req.content)) as zip_ref:\n",
    "    zip_ref.extractall()"
   ]
  },
  {
   "cell_type": "code",
   "execution_count": null,
   "id": "cd03829b",
   "metadata": {
    "tags": []
   },
   "outputs": [],
   "source": [
    "df = pd.concat(map(pd.read_csv, glob.glob('ringba-call-log*.csv')))"
   ]
  },
  {
   "cell_type": "code",
   "execution_count": null,
   "id": "a00075fb-70fc-4cb6-a0e8-9abe0706ed7a",
   "metadata": {
    "tags": []
   },
   "outputs": [],
   "source": [
    "# Step: Change data type of ['Campaign', 'Publisher', 'Target', 'Buyer', 'End Call Source', 'Connected', 'Paid Out', 'Is Duplicate', 'Converted'] to String/Text\n",
    "for column_name in df.select_dtypes(['object']).columns:\n",
    "    df[column_name] = df[column_name].astype('string')\n",
    "\n",
    "# Step: Change data type of ['Caller ID', 'Number'] to String/Text\n",
    "for column_name in ['Caller ID', 'Number']:\n",
    "    df[column_name] = df[column_name].astype('string')\n",
    "\n",
    "# Step: Change data type of ['Call Length', 'Connected Call Length', 'Payout'] to Integer\n",
    "for column_name in df.select_dtypes('float').columns:\n",
    "    df[column_name] = df[column_name].astype('Int64')\n",
    "\n",
    "# Step: Drop rows where Payout is missing\n",
    "df = df.loc[~(df['Payout'].isna())]\n",
    "\n",
    "df['Call Date'] = pd.to_datetime(df['Call Date'], unit='ms')\n",
    "\n",
    "df = df.drop(columns=['Converted', 'Campaign'])\n"
   ]
  },
  {
   "cell_type": "code",
   "execution_count": null,
   "id": "3405d9d8-9265-4349-a4bd-79e77c8764d4",
   "metadata": {},
   "outputs": [],
   "source": [
    "# Step: Keep rows where Publisher is one of: PX Media\n",
    "PX = df.loc[df['Publisher'].isin(['PolicyBind'])]"
   ]
  },
  {
   "cell_type": "code",
   "execution_count": null,
   "id": "4141f2e5-2c16-4344-9ce1-19b0b59af5d7",
   "metadata": {},
   "outputs": [],
   "source": [
    "sql_str = 'mariadb+pymysql://mike@data.caridamedsupp.com:Rutgers-72@45.79.131.179/Customers'\n",
    "          \n",
    "# Create the connection\n",
    "cnx = create_engine(sql_str)\n",
    "\n",
    "PX.to_sql('PolicyBind Ringba Call Log', con=cnx, if_exists='append', index=False)"
   ]
  },
  {
   "cell_type": "code",
   "execution_count": null,
   "id": "48f9af0d-8e0a-4cd3-a708-04feb4df2041",
   "metadata": {},
   "outputs": [],
   "source": [
    "'''delete the file that begins with ringba-call-log'''\n",
    "for file in glob.glob('ringba-call-log*.csv'):\n",
    "    os.remove(file)"
   ]
  },
  {
   "cell_type": "code",
   "execution_count": null,
   "id": "c3f92786-0c0d-43ad-b46b-d03ef0159f09",
   "metadata": {},
   "outputs": [],
   "source": [
    "auth_token = \"vu332i5d8jx6ppqyhmkq76sxs2e2w6fh\"\n",
    "start_time = start\n",
    "end_time = end\n",
    "limit = 500  # You can use any value between 1 and 500 for the limit parameter\n",
    "offset = 0  # Set the offset to 0 to start pagination from the beginning\n",
    "order = \"asc\"  # Set the order to \"asc\" to retrieve the data in ascending order\n",
    "call_type =  '' # Set the call_type to \"inbound\" to retrieve only inbound call data\n",
    "called_count = '' # Set the called_count to 0 to retrieve only calls that were not answered\n",
    "include_recordings = 0  # Set the include_recordings to 0 to exclude recordings from the response\n",
    "list_id = 3116"
   ]
  },
  {
   "cell_type": "code",
   "execution_count": null,
   "id": "7ccbc6af-8f09-45e5-959b-adb096ee1a2a",
   "metadata": {},
   "outputs": [],
   "source": [
    "def convoso_api_to_dataframe(auth_token, start_time, end_time, limit, offset, order, call_type, called_count, include_recordings):\n",
    "    url = f\"https://api.convoso.com/v1/log/retrieve?auth_token={auth_token}&status=&list_id={list_id}&start_time={start_time}&end_time={end_time}&limit={limit}&offset={offset}&order={order}&call_type={call_type}&called_count={called_count}&include_recordings={include_recordings}\"\n",
    "    response = requests.get(url)\n",
    "    data = response.json()['data']['results']\n",
    "    df = pd.json_normalize(data)\n",
    "    return df\n"
   ]
  },
  {
   "cell_type": "code",
   "execution_count": null,
   "id": "d0a6b94a-c39d-4149-8a34-a32e6818870e",
   "metadata": {},
   "outputs": [],
   "source": [
    "# Create an empty dataframe to store the concatenated data\n",
    "df_all = pd.DataFrame()\n",
    "\n",
    "# Iterate over a range of values for the offset parameter\n",
    "for offset in range(0, 40000, 500):\n",
    "    # Call the function and store the returned dataframe in a variable\n",
    "    df = convoso_api_to_dataframe(auth_token, start_time, end_time, limit, offset, order, call_type, called_count, include_recordings)\n",
    "    \n",
    "    # Concatenate the dataframe with the df_all dataframe\n",
    "    df_all = pd.concat([df_all, df], ignore_index=True)"
   ]
  },
  {
   "cell_type": "code",
   "execution_count": null,
   "id": "ba882171-9a1f-4d93-9d70-4ee90ecdf56f",
   "metadata": {},
   "outputs": [],
   "source": [
    "import pandas as pd; import numpy as np\n",
    "# Step: Keep rows where list_id is one of: 2907\n",
    "df_all = df_all.loc[df_all['list_id'].isin(['2907'])]\n",
    "\n",
    "import pandas as pd; import numpy as np\n",
    "# Step: Select columns\n",
    "df_all = df_all[['phone_number', 'status_name', 'call_date']]\n",
    "\n",
    "# Step: Change data type of call_date to Datetime\n",
    "df_all['call_date'] = pd.to_datetime(df_all['call_date'], infer_datetime_format=True)\n",
    "\n",
    "# Step: Change data type of status_name to String/Text\n",
    "df_all['status_name'] = df_all['status_name'].astype('string')\n",
    "\n",
    "# Step: Change data type of phone_number to String/Text\n",
    "df_all['phone_number'] = df_all['phone_number'].astype('string')\n",
    "\n",
    "import pandas as pd; import numpy as np\n",
    "# Step: Create new column 'phone' from formula ''1' + phone_number'\n",
    "df_all['phone'] = '1' + df_all['phone_number']\n",
    "\n",
    "# Step: Drop columns\n",
    "df_all = df_all.drop(columns=['phone_number'])"
   ]
  },
  {
   "cell_type": "code",
   "execution_count": null,
   "id": "6d383d20-6b30-4583-8d84-16967f80f0a9",
   "metadata": {},
   "outputs": [],
   "source": [
    "import pandas as pd; import numpy as np\n",
    "# Step: Select columns\n",
    "PX = PX[['Call Date', 'Target Number', 'Caller ID']]\n",
    "\n",
    "# Step: Change data type of Target Number to String/Text\n",
    "PX['Target Number'] = PX['Target Number'].astype('string')\n",
    "\n",
    "# Step: Rename column\n",
    "PX = PX.rename(columns={'Caller ID': 'phone'})\n",
    "\n",
    "merged_df = pd.merge(PX, df_all, on=['phone'], how='left')\n",
    "\n",
    "# Merged df_all and PX into df3\n",
    "temp_df = PX.drop_duplicates(subset=['phone']) # Remove duplicates so lookup merge only returns first match\n",
    "PX_tmp = temp_df.drop(['Target Number', 'Call Date'], axis=1)\n",
    "df3 = df_all.merge(PX_tmp, left_on=['phone'], right_on=['phone'], how='left', suffixes=['_df_all', '_PX'])\n"
   ]
  },
  {
   "cell_type": "code",
   "execution_count": null,
   "id": "3e860b10-f50e-4dd2-9c06-8752864118bf",
   "metadata": {},
   "outputs": [],
   "source": [
    "print(df3)"
   ]
  },
  {
   "cell_type": "code",
   "execution_count": null,
   "id": "63072156-5736-44d0-847d-afaf7887551f",
   "metadata": {},
   "outputs": [],
   "source": []
  }
 ],
 "metadata": {
  "kernelspec": {
   "display_name": "Python 3 (ipykernel)",
   "language": "python",
   "name": "python3"
  },
  "language_info": {
   "codemirror_mode": {
    "name": "ipython",
    "version": 3
   },
   "file_extension": ".py",
   "mimetype": "text/x-python",
   "name": "python",
   "nbconvert_exporter": "python",
   "pygments_lexer": "ipython3",
   "version": "3.10.9"
  },
  "vscode": {
   "interpreter": {
    "hash": "1b32e9bd945c7433f5b07266701d547c5dd8223410e8b9fcc928b2d031e45c37"
   }
  }
 },
 "nbformat": 4,
 "nbformat_minor": 5
}
